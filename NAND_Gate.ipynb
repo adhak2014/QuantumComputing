{
 "cells": [
  {
   "cell_type": "code",
   "execution_count": 1,
   "metadata": {},
   "outputs": [],
   "source": [
    "from qiskit import *\n",
    "from qiskit.visualization import plot_histogram\n",
    "from qiskit.tools.visualization import plot_bloch_multivector\n",
    "import numpy as np"
   ]
  },
  {
   "cell_type": "code",
   "execution_count": 2,
   "metadata": {},
   "outputs": [],
   "source": [
    "def NAND(input1,input2):\n",
    "    \n",
    "    q = QuantumRegister(3) # two qubits in which to encode the input, and one for the output\n",
    "    c = ClassicalRegister(1) # a bit to store the output\n",
    "    qc = QuantumCircuit(q, c) # this is where the quantum program goes\n",
    "    \n",
    "    # YOUR QUANTUM PROGRAM GOES HERE\n",
    "    if input1 == '1':\n",
    "        qc.x(q[0])\n",
    "    if input2 == '1':\n",
    "        qc.x(q[1])\n",
    "    qc.ccx(q[0], q[1], q[2])\n",
    "    qc.x(q[2])\n",
    "    qc.measure(q[2],c[0]) # YOU CAN CHANGE THIS IF YOU WANT TO\n",
    "    \n",
    "    statevector_job = execute(qc, Aer.get_backend('statevector_simulator')).result()\n",
    "    statevec = statevector_job.get_statevector()\n",
    "    \n",
    "    # We'll run the program on a simulator\n",
    "    qasm_job = execute(qc, Aer.get_backend('qasm_simulator'), memory=True).result()\n",
    "    counts = qasm_job.get_counts()\n",
    "    \n",
    "    for k,v in counts.items():\n",
    "        output = k\n",
    "\n",
    "    return qc, counts, output, statevec"
   ]
  },
  {
   "cell_type": "code",
   "execution_count": 3,
   "metadata": {},
   "outputs": [
    {
     "name": "stdout",
     "output_type": "stream",
     "text": [
      "Input1 = 0 and Input2 = 0 ----> NAND ----> Output = 1\n",
      "Counts = {'1': 1024} Output = 1 StateVector = [0.+0.j 0.+0.j 0.+0.j 0.+0.j 1.+0.j 0.+0.j 0.+0.j 0.+0.j]\n"
     ]
    }
   ],
   "source": [
    "#print('\\nResults for the NAND gate\\n')\n",
    "input1 = '0'\n",
    "input2 = '0'\n",
    "circuit, counts, output, statevec = NAND(input1, input2)\n",
    "print('Input1 = {} and Input2 = {} ----> NAND ----> Output = {}'.format(input1, input2, output))\n",
    "print('Counts = {} Output = {} StateVector = {}'.format(counts, output, statevec))\n",
    "fig00 = circuit.draw(output='mpl')\n",
    "fig00.savefig('NANDGate_Circuit00.png')"
   ]
  },
  {
   "cell_type": "code",
   "execution_count": 4,
   "metadata": {
    "scrolled": true
   },
   "outputs": [],
   "source": [
    "fig00 = plot_histogram(counts)\n",
    "fig00.savefig('NANDGate_Histogram00.png')"
   ]
  },
  {
   "cell_type": "code",
   "execution_count": 5,
   "metadata": {},
   "outputs": [],
   "source": [
    "fig00 = plot_bloch_multivector(statevec)\n",
    "fig00.savefig('NANDGate_Blocksphere00.png')"
   ]
  },
  {
   "cell_type": "code",
   "execution_count": 6,
   "metadata": {
    "scrolled": true
   },
   "outputs": [
    {
     "name": "stdout",
     "output_type": "stream",
     "text": [
      "Input1 = 1 and Input2 = 0 ----> NAND ----> Output = 1\n",
      "Counts = {'1': 1024} Output = 1 StateVector = [0.+0.j 0.+0.j 0.+0.j 0.+0.j 0.+0.j 1.+0.j 0.+0.j 0.+0.j]\n"
     ]
    }
   ],
   "source": [
    "#print('\\nResults for the NAND gate\\n')\n",
    "input1 = '1'\n",
    "input2 = '0'\n",
    "circuit, counts, output, statevec = NAND(input1, input2)\n",
    "print('Input1 = {} and Input2 = {} ----> NAND ----> Output = {}'.format(input1, input2, output))\n",
    "print('Counts = {} Output = {} StateVector = {}'.format(counts, output, statevec))\n",
    "fig01 = circuit.draw(output='mpl')\n",
    "fig01.savefig('NANDGate_Circuit01.png')"
   ]
  },
  {
   "cell_type": "code",
   "execution_count": 7,
   "metadata": {},
   "outputs": [],
   "source": [
    "fig01 = plot_histogram(counts)\n",
    "fig01.savefig('NANDGate_Histogram01.png')"
   ]
  },
  {
   "cell_type": "code",
   "execution_count": 8,
   "metadata": {},
   "outputs": [],
   "source": [
    "fig01 = plot_bloch_multivector(statevec)\n",
    "fig01.savefig('NANDGate_Blocksphere01.png')"
   ]
  },
  {
   "cell_type": "code",
   "execution_count": 9,
   "metadata": {},
   "outputs": [
    {
     "name": "stdout",
     "output_type": "stream",
     "text": [
      "Input1 = 0 and Input2 = 1 ----> NAND ----> Output = 1\n",
      "Counts = {'1': 1024} Output = 1 StateVector = [0.+0.j 0.+0.j 0.+0.j 0.+0.j 0.+0.j 0.+0.j 1.+0.j 0.+0.j]\n"
     ]
    }
   ],
   "source": [
    "#print('\\nResults for the NAND gate\\n')\n",
    "input1 = '0'\n",
    "input2 = '1'\n",
    "circuit, counts, output, statevec = NAND(input1, input2)\n",
    "print('Input1 = {} and Input2 = {} ----> NAND ----> Output = {}'.format(input1, input2, output))\n",
    "print('Counts = {} Output = {} StateVector = {}'.format(counts, output, statevec))\n",
    "fig10 = circuit.draw(output='mpl')\n",
    "fig10.savefig('NANDGate_Circuit10.png')"
   ]
  },
  {
   "cell_type": "code",
   "execution_count": 10,
   "metadata": {},
   "outputs": [],
   "source": [
    "fig10 = plot_histogram(counts)\n",
    "fig10.savefig('NANDGate_Histogram10.png')"
   ]
  },
  {
   "cell_type": "code",
   "execution_count": 11,
   "metadata": {},
   "outputs": [],
   "source": [
    "fig10 = plot_bloch_multivector(statevec)\n",
    "fig10.savefig('NANDGate_Blocksphere10.png')"
   ]
  },
  {
   "cell_type": "code",
   "execution_count": 12,
   "metadata": {},
   "outputs": [
    {
     "name": "stdout",
     "output_type": "stream",
     "text": [
      "Input1 = 1 and Input2 = 1 ----> NAND ----> Output = 0\n",
      "Counts = {'0': 1024} Output = 0 StateVector = [0.+0.j 0.+0.j 0.+0.j 1.+0.j 0.+0.j 0.+0.j 0.+0.j 0.+0.j]\n"
     ]
    }
   ],
   "source": [
    "#print('\\nResults for the NAND gate\\n')\n",
    "input1 = '1'\n",
    "input2 = '1'\n",
    "circuit, counts, output, statevec = NAND(input1, input2)\n",
    "print('Input1 = {} and Input2 = {} ----> NAND ----> Output = {}'.format(input1, input2, output))\n",
    "print('Counts = {} Output = {} StateVector = {}'.format(counts, output, statevec))\n",
    "fig11 = circuit.draw(output='mpl')\n",
    "fig11.savefig('NANDGate_Circuit11.png')"
   ]
  },
  {
   "cell_type": "code",
   "execution_count": 13,
   "metadata": {},
   "outputs": [],
   "source": [
    "fig11 = plot_histogram(counts)\n",
    "fig11.savefig('NANDGate_Histogram11.png')"
   ]
  },
  {
   "cell_type": "code",
   "execution_count": 14,
   "metadata": {},
   "outputs": [],
   "source": [
    "fig11 = plot_bloch_multivector(statevec)\n",
    "fig11.savefig('NANDGate_Blocksphere11.png')"
   ]
  },
  {
   "cell_type": "code",
   "execution_count": null,
   "metadata": {},
   "outputs": [],
   "source": []
  }
 ],
 "metadata": {
  "kernelspec": {
   "display_name": "Python 3",
   "language": "python",
   "name": "python3"
  },
  "language_info": {
   "codemirror_mode": {
    "name": "ipython",
    "version": 3
   },
   "file_extension": ".py",
   "mimetype": "text/x-python",
   "name": "python",
   "nbconvert_exporter": "python",
   "pygments_lexer": "ipython3",
   "version": "3.7.5"
  }
 },
 "nbformat": 4,
 "nbformat_minor": 4
}
