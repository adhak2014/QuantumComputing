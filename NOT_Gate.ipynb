{
 "cells": [
  {
   "cell_type": "code",
   "execution_count": 1,
   "metadata": {},
   "outputs": [],
   "source": [
    "from qiskit import *\n",
    "from qiskit.visualization import plot_histogram\n",
    "from qiskit.tools.visualization import plot_bloch_multivector\n",
    "import numpy as np"
   ]
  },
  {
   "cell_type": "code",
   "execution_count": 2,
   "metadata": {
    "scrolled": true
   },
   "outputs": [],
   "source": [
    "def NOT(input):\n",
    "\n",
    "    q = QuantumRegister(1) # a qubit in which to encode and manipulate the input\n",
    "    c = ClassicalRegister(1) # a bit to store the output\n",
    "    qc = QuantumCircuit(q, c) # this is where the quantum program goes\n",
    "\n",
    "    # We encode '0' as the qubit state |0⟩, and '1' as |1⟩\n",
    "    # Since the qubit is initially |0⟩, we don't need to do anything for an input of '0'\n",
    "    # For an input of '1', we do an x to rotate the |0⟩ to |1⟩\n",
    "    if input=='1':\n",
    "        qc.x( q[0] )\n",
    "        \n",
    "    # Now we've encoded the input, we can do a NOT on it using x\n",
    "    qc.x( q[0] )\n",
    "    \n",
    "    # Finally, we extract the |0⟩/|1⟩ output of the qubit and encode it in the bit c[0]\n",
    "    qc.measure( q[0], c[0] )\n",
    "    \n",
    "    statevector_job = execute(qc, Aer.get_backend('statevector_simulator')).result()\n",
    "    statevec = statevector_job.get_statevector()\n",
    "    \n",
    "    # We'll run the program on a simulator\n",
    "    \n",
    "    qasm_job = execute(qc, Aer.get_backend('qasm_simulator')).result()\n",
    "    counts = qasm_job.get_counts()\n",
    "    \n",
    "    for k,v in counts.items():\n",
    "        output = k\n",
    "\n",
    "    return qc, counts, output, statevec"
   ]
  },
  {
   "cell_type": "code",
   "execution_count": 3,
   "metadata": {
    "scrolled": true
   },
   "outputs": [
    {
     "name": "stdout",
     "output_type": "stream",
     "text": [
      "\n",
      "Results for the NOT gate\n",
      "\n",
      "Input: 0 ----> NOT ----> Output: 1\n",
      "Counts: {'1': 1024} Output: 1 StateVector: [0.+0.j 1.+0.j]\n"
     ]
    }
   ],
   "source": [
    "print('\\nResults for the NOT gate\\n')\n",
    "input = '0'\n",
    "circuit, counts, output, statevec = NOT(input)\n",
    "print('Input: {} ----> NOT ----> Output: {}'.format(input, output))\n",
    "print('Counts: {} Output: {} StateVector: {}'.format(counts, output, statevec))\n",
    "fig01 = circuit.draw(output='mpl')\n",
    "fig01.savefig('NOTGate_Circuit1')"
   ]
  },
  {
   "cell_type": "code",
   "execution_count": 4,
   "metadata": {},
   "outputs": [],
   "source": [
    "fig1 = plot_histogram(counts)\n",
    "fig1.savefig('NOTGate_Histogram1.png')"
   ]
  },
  {
   "cell_type": "code",
   "execution_count": 5,
   "metadata": {},
   "outputs": [],
   "source": [
    "fig11 = plot_bloch_multivector(statevec)\n",
    "fig11.savefig('NOTGate_BlochSphere1')"
   ]
  },
  {
   "cell_type": "code",
   "execution_count": 6,
   "metadata": {},
   "outputs": [
    {
     "name": "stdout",
     "output_type": "stream",
     "text": [
      "\n",
      "Results for the NOT gate\n",
      "\n",
      "Input: 1 ----> NOT ----> Output: 0\n",
      "Counts: {'0': 1024} Output: 0 StateVector: [1.+0.j 0.+0.j]\n"
     ]
    }
   ],
   "source": [
    "print('\\nResults for the NOT gate\\n')\n",
    "input = '1'\n",
    "circuit, counts, output, statevec = NOT(input)\n",
    "print('Input: {} ----> NOT ----> Output: {}'.format(input, output))\n",
    "print('Counts: {} Output: {} StateVector: {}'.format(counts, output, statevec))\n",
    "fig02 = circuit.draw(output='mpl')\n",
    "fig02.savefig('NOTGate_Circuit2')"
   ]
  },
  {
   "cell_type": "code",
   "execution_count": 7,
   "metadata": {},
   "outputs": [],
   "source": [
    "fig2 = plot_histogram(counts)\n",
    "fig2.savefig('NOTGate_Histogram2.png')"
   ]
  },
  {
   "cell_type": "code",
   "execution_count": 8,
   "metadata": {
    "scrolled": true
   },
   "outputs": [],
   "source": [
    "fig21 = plot_bloch_multivector(statevec)\n",
    "fig21.savefig('NOTGate_BlochSphere2')"
   ]
  },
  {
   "cell_type": "code",
   "execution_count": null,
   "metadata": {},
   "outputs": [],
   "source": []
  }
 ],
 "metadata": {
  "kernelspec": {
   "display_name": "Python 3",
   "language": "python",
   "name": "python3"
  },
  "language_info": {
   "codemirror_mode": {
    "name": "ipython",
    "version": 3
   },
   "file_extension": ".py",
   "mimetype": "text/x-python",
   "name": "python",
   "nbconvert_exporter": "python",
   "pygments_lexer": "ipython3",
   "version": "3.7.5"
  }
 },
 "nbformat": 4,
 "nbformat_minor": 4
}
