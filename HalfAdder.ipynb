{
 "cells": [
  {
   "cell_type": "code",
   "execution_count": 1,
   "metadata": {},
   "outputs": [],
   "source": [
    "from qiskit import *\n",
    "from qiskit.visualization import plot_histogram\n",
    "from qiskit.tools.visualization import plot_bloch_multivector\n",
    "import numpy as np"
   ]
  },
  {
   "cell_type": "code",
   "execution_count": 2,
   "metadata": {},
   "outputs": [],
   "source": [
    "def HalfAdder(input1,input2):\n",
    "    \n",
    "    q = QuantumRegister(3) # two qubits in which to encode the input, and one for the output\n",
    "    c = ClassicalRegister(2) # a bit to store the output\n",
    "    qc = QuantumCircuit(q, c) # this is where the quantum program goes\n",
    "    \n",
    "    # YOUR QUANTUM PROGRAM GOES HERE\n",
    "    if input1 == '1':\n",
    "        qc.x(q[0])\n",
    "    if input2 == '1':\n",
    "        qc.x(q[1])\n",
    "        \n",
    "    qc.ccx(q[0], q[1], q[2])\n",
    "    qc.cx(q[0], q[1])\n",
    "    qc.measure(q[1],c[0]) # Sum\n",
    "    qc.measure(q[2],c[1]) # CarryOut\n",
    "    \n",
    "    statevector_job = execute(qc, Aer.get_backend('statevector_simulator')).result()\n",
    "    statevec = statevector_job.get_statevector()\n",
    "    \n",
    "    # We'll run the program on a simulator\n",
    "    qasm_job = execute(qc, Aer.get_backend('qasm_simulator'), memory=True).result()\n",
    "    counts = qasm_job.get_counts()\n",
    "    \n",
    "    for k,v in counts.items():\n",
    "        output = k\n",
    "\n",
    "    return qc, counts, output, statevec"
   ]
  },
  {
   "cell_type": "code",
   "execution_count": 3,
   "metadata": {},
   "outputs": [
    {
     "name": "stdout",
     "output_type": "stream",
     "text": [
      "00\n",
      "Input1 = 0 + Input2 = 0 Sum = 0 CarryOut = 0\n",
      "Counts = {'00': 1024} Output = 00 StateVector = [1.+0.j 0.+0.j 0.+0.j 0.+0.j 0.+0.j 0.+0.j 0.+0.j 0.+0.j]\n"
     ]
    }
   ],
   "source": [
    "#print('\\nResults for the Half Adder\\n')\n",
    "input1 = '0'\n",
    "input2 = '0'\n",
    "circuit, counts, output, statevec = HalfAdder(input1, input2)\n",
    "print(output)\n",
    "print('Input1 = {} + Input2 = {} Sum = {} CarryOut = {}'.format(input1, input2, output[1], output[0]))\n",
    "print('Counts = {} Output = {} StateVector = {}'.format(counts, output, statevec))\n",
    "fig00 = circuit.draw(output='mpl')\n",
    "fig00.savefig('HalfAdder_Circuit00.png')"
   ]
  },
  {
   "cell_type": "code",
   "execution_count": 4,
   "metadata": {},
   "outputs": [],
   "source": [
    "fig00 = plot_histogram(counts)\n",
    "fig00.savefig('HalfAdder_Histogram00.png')"
   ]
  },
  {
   "cell_type": "code",
   "execution_count": 5,
   "metadata": {},
   "outputs": [],
   "source": [
    "fig00 = plot_bloch_multivector(statevec)\n",
    "fig00.savefig('HalfAdder_Blocksphere00.png')"
   ]
  },
  {
   "cell_type": "code",
   "execution_count": 6,
   "metadata": {
    "scrolled": true
   },
   "outputs": [
    {
     "name": "stdout",
     "output_type": "stream",
     "text": [
      "01\n",
      "Input1 = 1 + Input2 = 0 Sum = 1 CarryOut = 0\n",
      "Counts = {'01': 1024} Output = 01 StateVector = [0.+0.j 0.+0.j 0.+0.j 1.+0.j 0.+0.j 0.+0.j 0.+0.j 0.+0.j]\n"
     ]
    }
   ],
   "source": [
    "#print('\\nResults for the Half Adder\\n')\n",
    "input1 = '1'\n",
    "input2 = '0'\n",
    "circuit, counts, output, statevec = HalfAdder(input1, input2)\n",
    "print(output)\n",
    "print('Input1 = {} + Input2 = {} Sum = {} CarryOut = {}'.format(input1, input2, output[1], output[0]))\n",
    "print('Counts = {} Output = {} StateVector = {}'.format(counts, output, statevec))\n",
    "fig01 = circuit.draw(output='mpl')\n",
    "fig01.savefig('HalfAdder_Circuit01.png')"
   ]
  },
  {
   "cell_type": "code",
   "execution_count": 7,
   "metadata": {},
   "outputs": [],
   "source": [
    "fig01 = plot_histogram(counts)\n",
    "fig01.savefig('HalfAdder_Histogram01.png')"
   ]
  },
  {
   "cell_type": "code",
   "execution_count": 8,
   "metadata": {},
   "outputs": [],
   "source": [
    "fig01 = plot_bloch_multivector(statevec)\n",
    "fig01.savefig('HalfAdder_Blocksphere01.png')"
   ]
  },
  {
   "cell_type": "code",
   "execution_count": 9,
   "metadata": {},
   "outputs": [
    {
     "name": "stdout",
     "output_type": "stream",
     "text": [
      "01\n",
      "Input1 = 0 + Input2 = 1 Sum = 1 CarryOut = 0\n",
      "Counts = {'01': 1024} Output = 01 StateVector = [0.+0.j 0.+0.j 1.+0.j 0.+0.j 0.+0.j 0.+0.j 0.+0.j 0.+0.j]\n"
     ]
    }
   ],
   "source": [
    "#print('\\nResults for the Half Adder\\n')\n",
    "input1 = '0'\n",
    "input2 = '1'\n",
    "circuit, counts, output, statevec = HalfAdder(input1, input2)\n",
    "print(output)\n",
    "print('Input1 = {} + Input2 = {} Sum = {} CarryOut = {}'.format(input1, input2, output[1], output[0]))\n",
    "print('Counts = {} Output = {} StateVector = {}'.format(counts, output, statevec))\n",
    "fig10 = circuit.draw(output='mpl')\n",
    "fig10.savefig('HalfAdder_Circuit10.png')"
   ]
  },
  {
   "cell_type": "code",
   "execution_count": 10,
   "metadata": {},
   "outputs": [],
   "source": [
    "fig10 = plot_histogram(counts)\n",
    "fig10.savefig('HalfAdder_Histogram10.png')"
   ]
  },
  {
   "cell_type": "code",
   "execution_count": 11,
   "metadata": {},
   "outputs": [],
   "source": [
    "fig10 = plot_bloch_multivector(statevec)\n",
    "fig10.savefig('HalfAdder_Blocksphere10.png')"
   ]
  },
  {
   "cell_type": "code",
   "execution_count": 12,
   "metadata": {},
   "outputs": [
    {
     "name": "stdout",
     "output_type": "stream",
     "text": [
      "10\n",
      "Input1 = 1 + Input2 = 1 Sum = 0 CarryOut = 1\n",
      "Counts = {'10': 1024} Output = 10 StateVector = [0.+0.j 0.+0.j 0.+0.j 0.+0.j 0.+0.j 1.+0.j 0.+0.j 0.+0.j]\n"
     ]
    }
   ],
   "source": [
    "#print('\\nResults for the Half Adder\\n')\n",
    "input1 = '1'\n",
    "input2 = '1'\n",
    "circuit, counts, output, statevec = HalfAdder(input1, input2)\n",
    "print(output)\n",
    "print('Input1 = {} + Input2 = {} Sum = {} CarryOut = {}'.format(input1, input2, output[1], output[0]))\n",
    "print('Counts = {} Output = {} StateVector = {}'.format(counts, output, statevec))\n",
    "fig11 = circuit.draw(output='mpl')\n",
    "fig11.savefig('HalfAdder_Circuit11.png')"
   ]
  },
  {
   "cell_type": "code",
   "execution_count": 13,
   "metadata": {},
   "outputs": [],
   "source": [
    "fig11 = plot_histogram(counts)\n",
    "fig11.savefig('HalfAdder_Histogram11.png')"
   ]
  },
  {
   "cell_type": "code",
   "execution_count": 14,
   "metadata": {},
   "outputs": [],
   "source": [
    "fig11 = plot_bloch_multivector(statevec)\n",
    "fig11.savefig('HalfAdder_Blocksphere11.png')"
   ]
  },
  {
   "cell_type": "code",
   "execution_count": null,
   "metadata": {},
   "outputs": [],
   "source": []
  }
 ],
 "metadata": {
  "kernelspec": {
   "display_name": "Python 3",
   "language": "python",
   "name": "python3"
  },
  "language_info": {
   "codemirror_mode": {
    "name": "ipython",
    "version": 3
   },
   "file_extension": ".py",
   "mimetype": "text/x-python",
   "name": "python",
   "nbconvert_exporter": "python",
   "pygments_lexer": "ipython3",
   "version": "3.7.5"
  }
 },
 "nbformat": 4,
 "nbformat_minor": 4
}
