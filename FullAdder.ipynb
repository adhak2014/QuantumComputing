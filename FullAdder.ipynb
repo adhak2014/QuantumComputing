{
 "cells": [
  {
   "cell_type": "code",
   "execution_count": 1,
   "metadata": {},
   "outputs": [],
   "source": [
    "from qiskit import *\n",
    "from qiskit.visualization import plot_histogram\n",
    "from qiskit.tools.visualization import plot_bloch_multivector\n",
    "import numpy as np"
   ]
  },
  {
   "cell_type": "code",
   "execution_count": 2,
   "metadata": {
    "scrolled": true
   },
   "outputs": [],
   "source": [
    "def FullfAdder(input1,input2, carry_in):\n",
    "    \n",
    "    q = QuantumRegister(4) # two qubits in which to encode the input, and one for the output\n",
    "    c = ClassicalRegister(2) # a bit to store the output\n",
    "    qc = QuantumCircuit(q, c) # this is where the quantum program goes\n",
    "    \n",
    "    # YOUR QUANTUM PROGRAM GOES HERE\n",
    "    if input1 == '1':\n",
    "        qc.x(q[0])\n",
    "    if input2 == '1':\n",
    "        qc.x(q[1])\n",
    "    if carry_in == '1':\n",
    "        qc.x(q[2])\n",
    "        \n",
    "    qc.ccx(q[0], q[1], q[3])\n",
    "    qc.cx(q[0], q[1])\n",
    "    qc.ccx(q[1], q[2], q[3])\n",
    "    qc.cx(q[1], q[2])\n",
    "    qc.measure(q[2],c[0]) # Sum\n",
    "    qc.measure(q[3],c[1]) # Carry_Out\n",
    "    \n",
    "    statevector_job = execute(qc, Aer.get_backend('statevector_simulator')).result()\n",
    "    statevec = statevector_job.get_statevector()\n",
    "    \n",
    "    # We'll run the program on a simulator\n",
    "    qasm_job = execute(qc, Aer.get_backend('qasm_simulator'), memory=True).result()\n",
    "    counts = qasm_job.get_counts()\n",
    "    \n",
    "    for k,v in counts.items():\n",
    "        output = k\n",
    "\n",
    "    return qc, counts, output, statevec"
   ]
  },
  {
   "cell_type": "code",
   "execution_count": 3,
   "metadata": {},
   "outputs": [
    {
     "name": "stdout",
     "output_type": "stream",
     "text": [
      "00\n",
      "Input1 = 0 + Input2 = 0 + Carry_In = 0 Sum = 0 Carry_Out = 0\n",
      "Counts = {'00': 1024} Output = 00 StateVector = [1.+0.j 0.+0.j 0.+0.j 0.+0.j 0.+0.j 0.+0.j 0.+0.j 0.+0.j 0.+0.j 0.+0.j\n",
      " 0.+0.j 0.+0.j 0.+0.j 0.+0.j 0.+0.j 0.+0.j]\n"
     ]
    }
   ],
   "source": [
    "#print('\\nResults for the Full Adder\\n')\n",
    "input1 = '0'\n",
    "input2 = '0'\n",
    "carry_in = '0'\n",
    "circuit, counts, output, statevec = FullfAdder(input1,input2, carry_in)\n",
    "print(output)\n",
    "print('Input1 = {} + Input2 = {} + Carry_In = {} Sum = {} Carry_Out = {}'.format(input1, input2, carry_in, output[1], output[0]))\n",
    "print('Counts = {} Output = {} StateVector = {}'.format(counts, output, statevec))\n",
    "fig000 = circuit.draw(output='mpl')\n",
    "fig000.savefig('FullAdder_Circuit000.png')"
   ]
  },
  {
   "cell_type": "code",
   "execution_count": 4,
   "metadata": {},
   "outputs": [],
   "source": [
    "fig000 = plot_histogram(counts)\n",
    "fig000.savefig('FullAdder_Histogram000.png')"
   ]
  },
  {
   "cell_type": "code",
   "execution_count": 5,
   "metadata": {},
   "outputs": [],
   "source": [
    "fig000 = plot_bloch_multivector(statevec)\n",
    "fig000.savefig('FullAdder_Blocksphere000.png')"
   ]
  },
  {
   "cell_type": "code",
   "execution_count": 6,
   "metadata": {
    "scrolled": true
   },
   "outputs": [
    {
     "name": "stdout",
     "output_type": "stream",
     "text": [
      "01\n",
      "Input1 = 1 + Input2 = 0 + Carry_In = 0 Sum = 1 Carry_Out = 0\n",
      "Counts = {'01': 1024} Output = 01 StateVector = [0.+0.j 0.+0.j 0.+0.j 0.+0.j 0.+0.j 0.+0.j 0.+0.j 1.+0.j 0.+0.j 0.+0.j\n",
      " 0.+0.j 0.+0.j 0.+0.j 0.+0.j 0.+0.j 0.+0.j]\n"
     ]
    }
   ],
   "source": [
    "#print('\\nResults for the Full Adder\\n')\n",
    "input1 = '1'\n",
    "input2 = '0'\n",
    "carry_in = '0'\n",
    "circuit, counts, output, statevec = FullfAdder(input1,input2, carry_in)\n",
    "print(output)\n",
    "print('Input1 = {} + Input2 = {} + Carry_In = {} Sum = {} Carry_Out = {}'.format(input1, input2, carry_in, output[1], output[0]))\n",
    "print('Counts = {} Output = {} StateVector = {}'.format(counts, output, statevec))\n",
    "fig001 = circuit.draw(output='mpl')\n",
    "fig001.savefig('FullAdder_Circuit001.png')"
   ]
  },
  {
   "cell_type": "code",
   "execution_count": 7,
   "metadata": {},
   "outputs": [],
   "source": [
    "fig001 = plot_histogram(counts)\n",
    "fig001.savefig('FullAdder_Histogram001.png')"
   ]
  },
  {
   "cell_type": "code",
   "execution_count": 8,
   "metadata": {},
   "outputs": [],
   "source": [
    "fig001 = plot_bloch_multivector(statevec)\n",
    "fig001.savefig('FullAdder_Blocksphere001.png')"
   ]
  },
  {
   "cell_type": "code",
   "execution_count": 9,
   "metadata": {},
   "outputs": [
    {
     "name": "stdout",
     "output_type": "stream",
     "text": [
      "01\n",
      "Input1 = 0 + Input2 = 1 + Carry_In = 0 Sum = 1 Carry_Out = 0\n",
      "Counts = {'01': 1024} Output = 01 StateVector = [0.+0.j 0.+0.j 0.+0.j 0.+0.j 0.+0.j 0.+0.j 1.+0.j 0.+0.j 0.+0.j 0.+0.j\n",
      " 0.+0.j 0.+0.j 0.+0.j 0.+0.j 0.+0.j 0.+0.j]\n"
     ]
    }
   ],
   "source": [
    "#print('\\nResults for the Full Adder\\n')\n",
    "input1 = '0'\n",
    "input2 = '1'\n",
    "carry_in = '0'\n",
    "circuit, counts, output, statevec = FullfAdder(input1,input2, carry_in)\n",
    "print(output)\n",
    "print('Input1 = {} + Input2 = {} + Carry_In = {} Sum = {} Carry_Out = {}'.format(input1, input2, carry_in, output[1], output[0]))\n",
    "print('Counts = {} Output = {} StateVector = {}'.format(counts, output, statevec))\n",
    "fig010 = circuit.draw(output='mpl')\n",
    "fig010.savefig('FullAdder_Circuit010.png')"
   ]
  },
  {
   "cell_type": "code",
   "execution_count": 10,
   "metadata": {},
   "outputs": [],
   "source": [
    "fig010 = plot_histogram(counts)\n",
    "fig010.savefig('FullAdder_Histogram010.png')"
   ]
  },
  {
   "cell_type": "code",
   "execution_count": 11,
   "metadata": {},
   "outputs": [],
   "source": [
    "fig010 = plot_bloch_multivector(statevec)\n",
    "fig010.savefig('FullAdder_Blocksphere010.png')"
   ]
  },
  {
   "cell_type": "code",
   "execution_count": 12,
   "metadata": {},
   "outputs": [
    {
     "name": "stdout",
     "output_type": "stream",
     "text": [
      "10\n",
      "Input1 = 1 + Input2 = 1 + Carry_In = 0 Sum = 0 Carry_Out = 1\n",
      "Counts = {'10': 1024} Output = 10 StateVector = [0.+0.j 0.+0.j 0.+0.j 0.+0.j 0.+0.j 0.+0.j 0.+0.j 0.+0.j 0.+0.j 1.+0.j\n",
      " 0.+0.j 0.+0.j 0.+0.j 0.+0.j 0.+0.j 0.+0.j]\n"
     ]
    }
   ],
   "source": [
    "#print('\\nResults for the Full Adder\\n')\n",
    "input1 = '1'\n",
    "input2 = '1'\n",
    "carry_in = '0'\n",
    "circuit, counts, output, statevec = FullfAdder(input1,input2, carry_in)\n",
    "print(output)\n",
    "print('Input1 = {} + Input2 = {} + Carry_In = {} Sum = {} Carry_Out = {}'.format(input1, input2, carry_in, output[1], output[0]))\n",
    "print('Counts = {} Output = {} StateVector = {}'.format(counts, output, statevec))\n",
    "fig011 = circuit.draw(output='mpl')\n",
    "fig011.savefig('FullAdder_Circuit011.png')"
   ]
  },
  {
   "cell_type": "code",
   "execution_count": 13,
   "metadata": {},
   "outputs": [],
   "source": [
    "fig011 = plot_histogram(counts)\n",
    "fig011.savefig('FullAdder_Histogram011.png')"
   ]
  },
  {
   "cell_type": "code",
   "execution_count": 14,
   "metadata": {},
   "outputs": [],
   "source": [
    "fig011 = plot_bloch_multivector(statevec)\n",
    "fig011.savefig('FullAdder_Blocksphere011.png')"
   ]
  },
  {
   "cell_type": "code",
   "execution_count": 15,
   "metadata": {},
   "outputs": [
    {
     "name": "stdout",
     "output_type": "stream",
     "text": [
      "01\n",
      "Input1 = 0 + Input2 = 0 + Carry_In = 1 Sum = 1 Carry_Out = 0\n",
      "Counts = {'01': 1024} Output = 01 StateVector = [0.+0.j 0.+0.j 0.+0.j 0.+0.j 1.+0.j 0.+0.j 0.+0.j 0.+0.j 0.+0.j 0.+0.j\n",
      " 0.+0.j 0.+0.j 0.+0.j 0.+0.j 0.+0.j 0.+0.j]\n"
     ]
    }
   ],
   "source": [
    "#print('\\nResults for the Full Adder\\n')\n",
    "input1 = '0'\n",
    "input2 = '0'\n",
    "carry_in = '1'\n",
    "circuit, counts, output, statevec = FullfAdder(input1,input2, carry_in)\n",
    "print(output)\n",
    "print('Input1 = {} + Input2 = {} + Carry_In = {} Sum = {} Carry_Out = {}'.format(input1, input2, carry_in, output[1], output[0]))\n",
    "print('Counts = {} Output = {} StateVector = {}'.format(counts, output, statevec))\n",
    "fig100 = circuit.draw(output='mpl')\n",
    "fig100.savefig('FullAdder_Circuit100.png')"
   ]
  },
  {
   "cell_type": "code",
   "execution_count": 16,
   "metadata": {},
   "outputs": [],
   "source": [
    "fig100 = plot_histogram(counts)\n",
    "fig100.savefig('FullAdder_Histogram100.png')"
   ]
  },
  {
   "cell_type": "code",
   "execution_count": 17,
   "metadata": {},
   "outputs": [],
   "source": [
    "fig100 = plot_bloch_multivector(statevec)\n",
    "fig100.savefig('FullAdder_Blocksphere100.png')"
   ]
  },
  {
   "cell_type": "code",
   "execution_count": 18,
   "metadata": {},
   "outputs": [
    {
     "name": "stdout",
     "output_type": "stream",
     "text": [
      "10\n",
      "Input1 = 1 + Input2 = 0 + Carry_In = 1 Sum = 0 Carry_Out = 1\n",
      "Counts = {'10': 1024} Output = 10 StateVector = [0.+0.j 0.+0.j 0.+0.j 0.+0.j 0.+0.j 0.+0.j 0.+0.j 0.+0.j 0.+0.j 0.+0.j\n",
      " 0.+0.j 1.+0.j 0.+0.j 0.+0.j 0.+0.j 0.+0.j]\n"
     ]
    }
   ],
   "source": [
    "#print('\\nResults for the Full Adder\\n')\n",
    "input1 = '1'\n",
    "input2 = '0'\n",
    "carry_in = '1'\n",
    "circuit, counts, output, statevec = FullfAdder(input1,input2, carry_in)\n",
    "print(output)\n",
    "print('Input1 = {} + Input2 = {} + Carry_In = {} Sum = {} Carry_Out = {}'.format(input1, input2, carry_in, output[1], output[0]))\n",
    "print('Counts = {} Output = {} StateVector = {}'.format(counts, output, statevec))\n",
    "fig101 = circuit.draw(output='mpl')\n",
    "fig101.savefig('FullAdder_Circuit101.png')"
   ]
  },
  {
   "cell_type": "code",
   "execution_count": 19,
   "metadata": {},
   "outputs": [],
   "source": [
    "fig101 = plot_histogram(counts)\n",
    "fig101.savefig('FullAdder_Histogram101.png')"
   ]
  },
  {
   "cell_type": "code",
   "execution_count": 20,
   "metadata": {},
   "outputs": [],
   "source": [
    "fig101 = plot_bloch_multivector(statevec)\n",
    "fig101.savefig('FullAdder_Blocksphere101.png')"
   ]
  },
  {
   "cell_type": "code",
   "execution_count": 21,
   "metadata": {},
   "outputs": [
    {
     "name": "stdout",
     "output_type": "stream",
     "text": [
      "10\n",
      "Input1 = 0 + Input2 = 1 + Carry_In = 1 Sum = 0 Carry_Out = 1\n",
      "Counts = {'10': 1024} Output = 10 StateVector = [0.+0.j 0.+0.j 0.+0.j 0.+0.j 0.+0.j 0.+0.j 0.+0.j 0.+0.j 0.+0.j 0.+0.j\n",
      " 1.+0.j 0.+0.j 0.+0.j 0.+0.j 0.+0.j 0.+0.j]\n"
     ]
    }
   ],
   "source": [
    "#print('\\nResults for the Full Adder\\n')\n",
    "input1 = '0'\n",
    "input2 = '1'\n",
    "carry_in = '1'\n",
    "circuit, counts, output, statevec = FullfAdder(input1,input2, carry_in)\n",
    "print(output)\n",
    "print('Input1 = {} + Input2 = {} + Carry_In = {} Sum = {} Carry_Out = {}'.format(input1, input2, carry_in, output[1], output[0]))\n",
    "print('Counts = {} Output = {} StateVector = {}'.format(counts, output, statevec))\n",
    "fig110 = circuit.draw(output='mpl')\n",
    "fig110.savefig('FullAdder_Circuit110.png')"
   ]
  },
  {
   "cell_type": "code",
   "execution_count": 22,
   "metadata": {},
   "outputs": [],
   "source": [
    "fig110 = plot_histogram(counts)\n",
    "fig110.savefig('FullAdder_Histogram110.png')"
   ]
  },
  {
   "cell_type": "code",
   "execution_count": 23,
   "metadata": {},
   "outputs": [],
   "source": [
    "fig110 = plot_bloch_multivector(statevec)\n",
    "fig110.savefig('FullAdder_Blocksphere110.png')"
   ]
  },
  {
   "cell_type": "code",
   "execution_count": 24,
   "metadata": {},
   "outputs": [
    {
     "name": "stdout",
     "output_type": "stream",
     "text": [
      "11\n",
      "Input1 = 1 + Input2 = 1 + Carry_In = 1 Sum = 1 Carry_Out = 1\n",
      "Counts = {'11': 1024} Output = 11 StateVector = [0.+0.j 0.+0.j 0.+0.j 0.+0.j 0.+0.j 0.+0.j 0.+0.j 0.+0.j 0.+0.j 0.+0.j\n",
      " 0.+0.j 0.+0.j 0.+0.j 1.+0.j 0.+0.j 0.+0.j]\n"
     ]
    }
   ],
   "source": [
    "#print('\\nResults for the Full Adder\\n')\n",
    "input1 = '1'\n",
    "input2 = '1'\n",
    "carry_in = '1'\n",
    "circuit, counts, output, statevec = FullfAdder(input1,input2, carry_in)\n",
    "print(output)\n",
    "print('Input1 = {} + Input2 = {} + Carry_In = {} Sum = {} Carry_Out = {}'.format(input1, input2, carry_in, output[1], output[0]))\n",
    "print('Counts = {} Output = {} StateVector = {}'.format(counts, output, statevec))\n",
    "fig111 = circuit.draw(output='mpl')\n",
    "fig111.savefig('FullAdder_Circuit111.png')"
   ]
  },
  {
   "cell_type": "code",
   "execution_count": 25,
   "metadata": {},
   "outputs": [],
   "source": [
    "fig111 = plot_histogram(counts)\n",
    "fig111.savefig('FullAdder_Histogram111.png')"
   ]
  },
  {
   "cell_type": "code",
   "execution_count": 26,
   "metadata": {},
   "outputs": [],
   "source": [
    "fig111 = plot_bloch_multivector(statevec)\n",
    "fig111.savefig('FullAdder_Blocksphere111.png')"
   ]
  },
  {
   "cell_type": "code",
   "execution_count": null,
   "metadata": {},
   "outputs": [],
   "source": []
  }
 ],
 "metadata": {
  "kernelspec": {
   "display_name": "Python 3",
   "language": "python",
   "name": "python3"
  },
  "language_info": {
   "codemirror_mode": {
    "name": "ipython",
    "version": 3
   },
   "file_extension": ".py",
   "mimetype": "text/x-python",
   "name": "python",
   "nbconvert_exporter": "python",
   "pygments_lexer": "ipython3",
   "version": "3.7.5"
  }
 },
 "nbformat": 4,
 "nbformat_minor": 4
}
